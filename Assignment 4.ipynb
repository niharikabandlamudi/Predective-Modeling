{
 "cells": [
  {
   "cell_type": "markdown",
   "id": "c2f26fc1-2d9a-48d3-b3f0-0e1d430d7350",
   "metadata": {},
   "source": [
    "## 3.We now review k-fold cross-validation.\n",
    " (a) Explain how k-fold cross-validation is implemented. \n",
    "\n",
    "The k-fold cross validation is implemented by taking the amount of observations, n, and randomly splitting them into k, non-overlapping groups of length of approximately n/k. These groups acts as a validation set, and the remainder acts as a training set. The test error is then estimated by averaging the k resulting MSE estimates."
   ]
  },
  {
   "cell_type": "markdown",
   "id": "fc0a474b-d561-42d8-990a-b849d4553329",
   "metadata": {},
   "source": [
    "(b) What are the advantages and disadvantages of k-fold cross validation relative to: \n",
    "i. The validation set approach?\n",
    "ii. LOOCV?\n"
   ]
  },
  {
   "cell_type": "markdown",
   "id": "6968c1bf-ab8f-4b4c-8d61-b75d0e3fe461",
   "metadata": {},
   "source": [
    "A disadvantages of the validation set approach relative to k-fold cross-validation is the validation estimate of the test error rate can be highly variable (depends on which observations are included in the training/validation set). Another disadvantage is that only a subset of the observations are used to fit the model, so the validation set error may overestimate the test error rate for the model fit on the entire data set.\n",
    "\n",
    "\n",
    "\n",
    "LOOCV has less bias. We repeatedly fit the statistical learning method using training data that contains n-1 obs., i.e. almost all the data set is used LOOCV produces a less variable MSE. The validation approach produces different MSE when applied repeatedly due to randomness in the splitting process, while performing LOOCV multiple times will always yield the same results, because we split based on 1 obs. each time LOOCV is computationally intensive (disadvantage). We fit the each model n times."
   ]
  },
  {
   "cell_type": "markdown",
   "id": "d2424b99-af6d-4c3e-af2e-fc3bc1cf865b",
   "metadata": {},
   "source": [
    "## 5"
   ]
  },
  {
   "cell_type": "code",
   "execution_count": 1,
   "id": "63032118-3932-420f-940d-53bd1813b307",
   "metadata": {
    "tags": []
   },
   "outputs": [
    {
     "data": {
      "text/html": [
       "<div>\n",
       "<style scoped>\n",
       "    .dataframe tbody tr th:only-of-type {\n",
       "        vertical-align: middle;\n",
       "    }\n",
       "\n",
       "    .dataframe tbody tr th {\n",
       "        vertical-align: top;\n",
       "    }\n",
       "\n",
       "    .dataframe thead th {\n",
       "        text-align: right;\n",
       "    }\n",
       "</style>\n",
       "<table border=\"1\" class=\"dataframe\">\n",
       "  <thead>\n",
       "    <tr style=\"text-align: right;\">\n",
       "      <th></th>\n",
       "      <th>default</th>\n",
       "      <th>student</th>\n",
       "      <th>balance</th>\n",
       "      <th>income</th>\n",
       "    </tr>\n",
       "  </thead>\n",
       "  <tbody>\n",
       "    <tr>\n",
       "      <th>0</th>\n",
       "      <td>No</td>\n",
       "      <td>No</td>\n",
       "      <td>729.526495</td>\n",
       "      <td>44361.625074</td>\n",
       "    </tr>\n",
       "    <tr>\n",
       "      <th>1</th>\n",
       "      <td>No</td>\n",
       "      <td>Yes</td>\n",
       "      <td>817.180407</td>\n",
       "      <td>12106.134700</td>\n",
       "    </tr>\n",
       "    <tr>\n",
       "      <th>2</th>\n",
       "      <td>No</td>\n",
       "      <td>No</td>\n",
       "      <td>1073.549164</td>\n",
       "      <td>31767.138947</td>\n",
       "    </tr>\n",
       "    <tr>\n",
       "      <th>3</th>\n",
       "      <td>No</td>\n",
       "      <td>No</td>\n",
       "      <td>529.250605</td>\n",
       "      <td>35704.493935</td>\n",
       "    </tr>\n",
       "    <tr>\n",
       "      <th>4</th>\n",
       "      <td>No</td>\n",
       "      <td>No</td>\n",
       "      <td>785.655883</td>\n",
       "      <td>38463.495879</td>\n",
       "    </tr>\n",
       "  </tbody>\n",
       "</table>\n",
       "</div>"
      ],
      "text/plain": [
       "  default student      balance        income\n",
       "0      No      No   729.526495  44361.625074\n",
       "1      No     Yes   817.180407  12106.134700\n",
       "2      No      No  1073.549164  31767.138947\n",
       "3      No      No   529.250605  35704.493935\n",
       "4      No      No   785.655883  38463.495879"
      ]
     },
     "execution_count": 1,
     "metadata": {},
     "output_type": "execute_result"
    }
   ],
   "source": [
    "# Import standard Python data science libraries\n",
    "\n",
    "import numpy as np\n",
    "import pandas as pd\n",
    "import matplotlib as mpl\n",
    "import matplotlib.pyplot as plt\n",
    "from mlxtend.plotting import plot_decision_regions\n",
    "import seaborn as sns\n",
    "sns.set()\n",
    "\n",
    "# Import classes from scikit-learn for logistic regression, LDA, QDA, and KNN classification\n",
    "# Import convenience function for computing confusion matrices \n",
    "# Import OneHotEncoder and StandardScaler for data pre-processing\n",
    "# Import Pipeline, ColumnTransformer to encapsulate pre-processing heterogenous data and fitting\n",
    "# into a single estimator\n",
    "from sklearn.linear_model import LogisticRegression\n",
    "from sklearn.discriminant_analysis import LinearDiscriminantAnalysis, QuadraticDiscriminantAnalysis\n",
    "from sklearn.neighbors import KNeighborsClassifier\n",
    "from sklearn.model_selection import train_test_split\n",
    "from sklearn.metrics import confusion_matrix\n",
    "from sklearn.preprocessing import OneHotEncoder, StandardScaler\n",
    "from sklearn.pipeline import Pipeline\n",
    "from sklearn.compose import ColumnTransformer\n",
    "from sklearn.model_selection import cross_val_score\n",
    "from sklearn.model_selection import GridSearchCV\n",
    "from sklearn.metrics import accuracy_score\n",
    "from sklearn.utils import resample\n",
    "\n",
    "# Load StatsModels API\n",
    "# Note that if we wish to use R-style formulas, then we would use the StatsModels Formula API\n",
    "import statsmodels.api as sm\n",
    "import statsmodels.formula.api as smf\n",
    "\n",
    "Default = pd.read_csv(\"C:/Users/nihar/OneDrive/Desktop/Predictive Modeling/Data Sets/Default.csv\")\n",
    "Default.head()"
   ]
  },
  {
   "cell_type": "code",
   "execution_count": 2,
   "id": "4789b594-5935-4988-bd32-506d2d012a7a",
   "metadata": {
    "tags": []
   },
   "outputs": [
    {
     "data": {
      "text/plain": [
       "Index(['default', 'student', 'balance', 'income'], dtype='object')"
      ]
     },
     "execution_count": 2,
     "metadata": {},
     "output_type": "execute_result"
    }
   ],
   "source": [
    "Default.columns"
   ]
  },
  {
   "cell_type": "markdown",
   "id": "40a21b4c-93f3-4654-8441-81142d970611",
   "metadata": {},
   "source": [
    "## 5(a)"
   ]
  },
  {
   "cell_type": "code",
   "execution_count": 3,
   "id": "a919f3e3-c88f-4395-82ed-c66cb959619d",
   "metadata": {
    "tags": []
   },
   "outputs": [
    {
     "data": {
      "text/plain": [
       "array(['No', 'No', 'No', ..., 'No', 'No', 'No'], dtype=object)"
      ]
     },
     "execution_count": 3,
     "metadata": {},
     "output_type": "execute_result"
    }
   ],
   "source": [
    "# Split data into training and validation sets\n",
    "train_data, validation_data = train_test_split(Default, test_size=0.3, random_state=123)\n",
    "\n",
    "# Set a random seed for reproducibility\n",
    "np.random.seed(1)\n",
    "\n",
    "model = LogisticRegression()\n",
    "model.fit(train_data[['income', 'balance']], train_data['default'])\n",
    "\n",
    "# Predict on the validation set\n",
    "validation_pred = model.predict(validation_data[['income', 'balance']])\n",
    "validation_pred\n"
   ]
  },
  {
   "cell_type": "markdown",
   "id": "0495e7d5-5737-40fa-b5f0-558f32b819b5",
   "metadata": {},
   "source": [
    "## 5(b)\n"
   ]
  },
  {
   "cell_type": "code",
   "execution_count": 4,
   "id": "c5129778-c1c1-4fc7-b8ee-b80a77e143d9",
   "metadata": {
    "tags": []
   },
   "outputs": [
    {
     "data": {
      "text/plain": [
       "0.03400000000000003"
      ]
     },
     "execution_count": 4,
     "metadata": {},
     "output_type": "execute_result"
    }
   ],
   "source": [
    "# Predict on the test set\n",
    "test_data = Default.drop(validation_data.index)\n",
    "test_pred = model.predict(test_data[['income', 'balance']])\n",
    "\n",
    "# Calculate the misclassification error on the test set\n",
    "test_misclassification_error = 1 - accuracy_score(test_data['default'], test_pred)\n",
    "test_misclassification_error"
   ]
  },
  {
   "cell_type": "code",
   "execution_count": 5,
   "id": "956fd7c8-8927-42a1-8de2-d9bb553ba4d4",
   "metadata": {
    "tags": []
   },
   "outputs": [
    {
     "data": {
      "text/plain": [
       "0.03266666666666662"
      ]
     },
     "execution_count": 5,
     "metadata": {},
     "output_type": "execute_result"
    }
   ],
   "source": [
    "# i. Split the sample set into a training set and a validation set\n",
    "train_data, validation_data = train_test_split(Default, test_size=0.3, random_state=123)\n",
    "\n",
    "# ii. Fit a multiple logistic regression model using only the training observations\n",
    "model = LogisticRegression()\n",
    "model.fit(train_data[['income', 'balance']], train_data['default'])\n",
    "\n",
    "# iii. Obtain a prediction of default status for each individual in the validation set\n",
    "validation_data['default'] = (validation_data['default'] == 'Yes').astype(int)\n",
    "\n",
    "validation_pred_proba = model.predict_proba(validation_data[['income', 'balance']])\n",
    "validation_pred_default = (validation_pred_proba[:, 1] > 0.5).astype(int)\n",
    "\n",
    "# iv. Compute the validation set error\n",
    "validation_error = 1 - accuracy_score(validation_data['default'], validation_pred_default)\n",
    "validation_error"
   ]
  },
  {
   "cell_type": "markdown",
   "id": "0f9f403f-01ef-40bc-85e2-02c18e20b7ce",
   "metadata": {},
   "source": [
    "## 5(c)"
   ]
  },
  {
   "cell_type": "code",
   "execution_count": 6,
   "id": "8d9209fd-2ea6-43f4-953d-58cd60d4bf8d",
   "metadata": {
    "tags": []
   },
   "outputs": [
    {
     "name": "stdout",
     "output_type": "stream",
     "text": [
      "Iteration 1: 0.02733333333333332\n",
      "Iteration 2: 0.024666666666666615\n",
      "Iteration 3: 0.023666666666666614\n"
     ]
    }
   ],
   "source": [
    "# Repeat the process three times\n",
    "for i in range(3):\n",
    "    # Split the sample set into a training set and a validation set\n",
    "    train_data, validation_data = train_test_split(Default, test_size=0.3, random_state=i)\n",
    "    \n",
    "    # Fit a multiple logistic regression model using only the training observations\n",
    "    model = LogisticRegression()\n",
    "    model.fit(train_data[['income', 'balance']], train_data['default'])\n",
    "    \n",
    "    # Obtain a prediction of default status for each individual in the validation set\n",
    "    validation_pred1 = model.predict(validation_data[['income', 'balance']])\n",
    "    \n",
    "    # Compute the validation set error\n",
    "    validation_error1 = 1 - accuracy_score(validation_data['default'], validation_pred1)\n",
    "    print(f'Iteration {i+1}: {validation_error1}')"
   ]
  },
  {
   "cell_type": "markdown",
   "id": "3d27233d-5f8c-4f3e-bed8-b0d5d585dedd",
   "metadata": {},
   "source": [
    "The validation set errors for each iteration are relatively low, ranging from approximately 0.0236 to 0.0273. This suggests that the logistic regression model is performing well on the validation sets across different splits of the data. The consistency in the validation set errors across the iterations indicates that the model is stable and not highly sensitive to the specific training-validation set splits. Overall, the results suggest that the logistic regression model using income and balance as predictors is effective in predicting default status on this dataset."
   ]
  },
  {
   "cell_type": "markdown",
   "id": "9603c866-6c9c-46b2-a2f1-55f2ceeda5a9",
   "metadata": {},
   "source": [
    "## 5(d)"
   ]
  },
  {
   "cell_type": "code",
   "execution_count": 7,
   "id": "5016b0b0-76e1-4053-bcfd-c51ca7398b30",
   "metadata": {
    "tags": []
   },
   "outputs": [
    {
     "data": {
      "text/plain": [
       "0.02733333333333332"
      ]
     },
     "execution_count": 7,
     "metadata": {},
     "output_type": "execute_result"
    }
   ],
   "source": [
    "# Add a dummy variable for student\n",
    "Default['student_dummy'] = pd.get_dummies(Default['student'], drop_first=True)\n",
    "\n",
    "# Split the dataset into training and validation sets\n",
    "train_data, validation_data = train_test_split(Default, test_size=0.3, random_state=123)\n",
    "\n",
    "# Fit a logistic regression model\n",
    "model = LogisticRegression()\n",
    "model.fit(train_data[['income', 'balance', 'student_dummy']], train_data['default'])\n",
    "\n",
    "# Predict on the validation set\n",
    "validation_pred = model.predict(validation_data[['income', 'balance', 'student_dummy']])\n",
    "\n",
    "# Calculate the misclassification error\n",
    "misclassification_error = 1 - accuracy_score(validation_data['default'], validation_pred)\n",
    "misclassification_error"
   ]
  },
  {
   "cell_type": "markdown",
   "id": "8dd3ba57-7d2b-49de-84b7-371889808882",
   "metadata": {},
   "source": [
    "The misclassification error for the logistic regression model that includes a dummy variable for student is approximately 0.0273, which is very similar to the misclassification error of approximately 0.0273 obtained from the model that only used income and balance as predictors. This suggests that including a dummy variable for student did not lead to a significant reduction in the test error rate compared to the model without the student dummy variable."
   ]
  },
  {
   "cell_type": "markdown",
   "id": "9ad07fae-1a65-4bbe-abeb-76a993f1929d",
   "metadata": {},
   "source": [
    "## 6"
   ]
  },
  {
   "cell_type": "code",
   "execution_count": 8,
   "id": "3f40f4d3-d507-4890-a650-1dcc2bc4b385",
   "metadata": {
    "tags": []
   },
   "outputs": [
    {
     "data": {
      "text/html": [
       "<table class=\"simpletable\">\n",
       "<caption>Generalized Linear Model Regression Results</caption>\n",
       "<tr>\n",
       "  <th>Dep. Variable:</th>   <td>['default[No]', 'default[Yes]']</td> <th>  No. Observations:  </th>  <td> 10000</td> \n",
       "</tr>\n",
       "<tr>\n",
       "  <th>Model:</th>                         <td>GLM</td>               <th>  Df Residuals:      </th>  <td>  9997</td> \n",
       "</tr>\n",
       "<tr>\n",
       "  <th>Model Family:</th>               <td>Binomial</td>             <th>  Df Model:          </th>  <td>     2</td> \n",
       "</tr>\n",
       "<tr>\n",
       "  <th>Link Function:</th>                <td>Logit</td>              <th>  Scale:             </th> <td>  1.0000</td>\n",
       "</tr>\n",
       "<tr>\n",
       "  <th>Method:</th>                       <td>IRLS</td>               <th>  Log-Likelihood:    </th> <td> -789.48</td>\n",
       "</tr>\n",
       "<tr>\n",
       "  <th>Date:</th>                   <td>Fri, 08 Mar 2024</td>         <th>  Deviance:          </th> <td>  1579.0</td>\n",
       "</tr>\n",
       "<tr>\n",
       "  <th>Time:</th>                       <td>15:14:02</td>             <th>  Pearson chi2:      </th> <td>6.95e+03</td>\n",
       "</tr>\n",
       "<tr>\n",
       "  <th>No. Iterations:</th>                 <td>9</td>                <th>  Pseudo R-squ. (CS):</th>  <td>0.1256</td> \n",
       "</tr>\n",
       "<tr>\n",
       "  <th>Covariance Type:</th>            <td>nonrobust</td>            <th>                     </th>     <td> </td>   \n",
       "</tr>\n",
       "</table>\n",
       "<table class=\"simpletable\">\n",
       "<tr>\n",
       "      <td></td>         <th>coef</th>     <th>std err</th>      <th>z</th>      <th>P>|z|</th>  <th>[0.025</th>    <th>0.975]</th>  \n",
       "</tr>\n",
       "<tr>\n",
       "  <th>Intercept</th> <td>   11.5405</td> <td>    0.435</td> <td>   26.544</td> <td> 0.000</td> <td>   10.688</td> <td>   12.393</td>\n",
       "</tr>\n",
       "<tr>\n",
       "  <th>income</th>    <td>-2.081e-05</td> <td> 4.99e-06</td> <td>   -4.174</td> <td> 0.000</td> <td>-3.06e-05</td> <td> -1.1e-05</td>\n",
       "</tr>\n",
       "<tr>\n",
       "  <th>balance</th>   <td>   -0.0056</td> <td>    0.000</td> <td>  -24.835</td> <td> 0.000</td> <td>   -0.006</td> <td>   -0.005</td>\n",
       "</tr>\n",
       "</table>"
      ],
      "text/latex": [
       "\\begin{center}\n",
       "\\begin{tabular}{lclc}\n",
       "\\toprule\n",
       "\\textbf{Dep. Variable:}   & ['default[No]', 'default[Yes]'] & \\textbf{  No. Observations:  } &    10000    \\\\\n",
       "\\textbf{Model:}           &               GLM               & \\textbf{  Df Residuals:      } &     9997    \\\\\n",
       "\\textbf{Model Family:}    &             Binomial            & \\textbf{  Df Model:          } &        2    \\\\\n",
       "\\textbf{Link Function:}   &              Logit              & \\textbf{  Scale:             } &    1.0000   \\\\\n",
       "\\textbf{Method:}          &               IRLS              & \\textbf{  Log-Likelihood:    } &   -789.48   \\\\\n",
       "\\textbf{Date:}            &         Fri, 08 Mar 2024        & \\textbf{  Deviance:          } &    1579.0   \\\\\n",
       "\\textbf{Time:}            &             15:14:02            & \\textbf{  Pearson chi2:      } &  6.95e+03   \\\\\n",
       "\\textbf{No. Iterations:}  &                9                & \\textbf{  Pseudo R-squ. (CS):} &   0.1256    \\\\\n",
       "\\textbf{Covariance Type:} &            nonrobust            & \\textbf{                     } &             \\\\\n",
       "\\bottomrule\n",
       "\\end{tabular}\n",
       "\\begin{tabular}{lcccccc}\n",
       "                   & \\textbf{coef} & \\textbf{std err} & \\textbf{z} & \\textbf{P$> |$z$|$} & \\textbf{[0.025} & \\textbf{0.975]}  \\\\\n",
       "\\midrule\n",
       "\\textbf{Intercept} &      11.5405  &        0.435     &    26.544  &         0.000        &       10.688    &       12.393     \\\\\n",
       "\\textbf{income}    &   -2.081e-05  &     4.99e-06     &    -4.174  &         0.000        &    -3.06e-05    &     -1.1e-05     \\\\\n",
       "\\textbf{balance}   &      -0.0056  &        0.000     &   -24.835  &         0.000        &       -0.006    &       -0.005     \\\\\n",
       "\\bottomrule\n",
       "\\end{tabular}\n",
       "%\\caption{Generalized Linear Model Regression Results}\n",
       "\\end{center}"
      ],
      "text/plain": [
       "<class 'statsmodels.iolib.summary.Summary'>\n",
       "\"\"\"\n",
       "                        Generalized Linear Model Regression Results                        \n",
       "===========================================================================================\n",
       "Dep. Variable:     ['default[No]', 'default[Yes]']   No. Observations:                10000\n",
       "Model:                                         GLM   Df Residuals:                     9997\n",
       "Model Family:                             Binomial   Df Model:                            2\n",
       "Link Function:                               Logit   Scale:                          1.0000\n",
       "Method:                                       IRLS   Log-Likelihood:                -789.48\n",
       "Date:                             Fri, 08 Mar 2024   Deviance:                       1579.0\n",
       "Time:                                     15:14:02   Pearson chi2:                 6.95e+03\n",
       "No. Iterations:                                  9   Pseudo R-squ. (CS):             0.1256\n",
       "Covariance Type:                         nonrobust                                         \n",
       "==============================================================================\n",
       "                 coef    std err          z      P>|z|      [0.025      0.975]\n",
       "------------------------------------------------------------------------------\n",
       "Intercept     11.5405      0.435     26.544      0.000      10.688      12.393\n",
       "income     -2.081e-05   4.99e-06     -4.174      0.000   -3.06e-05    -1.1e-05\n",
       "balance       -0.0056      0.000    -24.835      0.000      -0.006      -0.005\n",
       "==============================================================================\n",
       "\"\"\""
      ]
     },
     "execution_count": 8,
     "metadata": {},
     "output_type": "execute_result"
    }
   ],
   "source": [
    "\n",
    "\n",
    "from bootstrapped import bootstrap as bs\n",
    "from bootstrapped import stats_functions as bs_stats\n",
    "from statsmodels.discrete.discrete_model import Logit\n",
    "\n",
    "# Set a random seed\n",
    "np.random.seed(2)\n",
    "\n",
    "#Compute estimated standard errors using sm.GLM()\n",
    "model = sm.GLM.from_formula('default ~ income + balance', family=sm.families.Binomial(), data=Default)\n",
    "result = model.fit()\n",
    "result.summary()\n"
   ]
  },
  {
   "cell_type": "markdown",
   "id": "0bd19170-107e-4056-8f4a-c9ab5c6ba0eb",
   "metadata": {},
   "source": [
    "## 6(b)"
   ]
  },
  {
   "cell_type": "code",
   "execution_count": 9,
   "id": "b9c9d7fa-038e-44fc-a789-ced3188eccf3",
   "metadata": {
    "tags": []
   },
   "outputs": [],
   "source": [
    "def boot_fn(Default, idx):\n",
    "    model = smf.glm(formula='default ~ income + balance', data=Default.iloc[idx], family=sm.families.Binomial()).fit()\n",
    "    return model.params"
   ]
  },
  {
   "cell_type": "markdown",
   "id": "92a57af8-f179-42df-ba32-cdb53242e428",
   "metadata": {},
   "source": [
    "## 6(c)"
   ]
  },
  {
   "cell_type": "code",
   "execution_count": 10,
   "id": "68979e63-b674-45ae-bb28-bf88a401da38",
   "metadata": {
    "tags": []
   },
   "outputs": [
    {
     "data": {
      "text/plain": [
       "Intercept    0.432966\n",
       "income       0.000005\n",
       "balance      0.000228\n",
       "dtype: float64"
      ]
     },
     "execution_count": 10,
     "metadata": {},
     "output_type": "execute_result"
    }
   ],
   "source": [
    "def bootstrap(Default, n=1000):\n",
    "    n_obs = len(Default)\n",
    "    coefs = []\n",
    "    for _ in range(n):\n",
    "        idx = np.random.choice(n_obs, n_obs, replace=True)\n",
    "        coef = boot_fn(Default, idx)\n",
    "        coefs.append(coef)\n",
    "    coefs = pd.DataFrame(coefs)\n",
    "    return coefs.std()\n",
    "\n",
    "bootstrap_se = bootstrap(Default)\n",
    "bootstrap_se"
   ]
  },
  {
   "cell_type": "markdown",
   "id": "8445d7b3-8ebc-4fd4-a7f7-fe3ec331b89a",
   "metadata": {},
   "source": [
    "## 6(d)"
   ]
  },
  {
   "cell_type": "markdown",
   "id": "aa303477-5ae6-4749-820c-7a89451d5058",
   "metadata": {},
   "source": [
    "I see that the estimated standard errors obtained using the sm.GLM() function for the coefficients of income and balance are very small, with values of approximately 0.000005 and 0.000228, These small standard errors suggest that the estimated coefficients are very precise and that there is very little uncertainty in their values.\n",
    "\n",
    "The estimated standard errors obtained using the bootstrap method are 0.432966 for the intercept, 0.000005 for income, and 0.000228 for balance. These values are larger than those obtained using the sm.GLM() function, indicating that the bootstrap method introduces more uncertainty into the estimates.\n",
    "\n",
    "The bootstrap method provides a more realistic estimate of the uncertainty in the coefficient estimates compared to the sm.GLM() function, which may underestimate the true uncertainty. Therefore, in this case, the bootstrap method is likely to be more reliable for assessing the precision of the coefficient estimates."
   ]
  },
  {
   "cell_type": "markdown",
   "id": "c3982548-0d25-442a-8bff-47d80a8d50bd",
   "metadata": {},
   "source": [
    "## 9"
   ]
  },
  {
   "cell_type": "code",
   "execution_count": 11,
   "id": "138d2e87-b583-45d1-abf5-2c632734d6a3",
   "metadata": {
    "tags": []
   },
   "outputs": [
    {
     "data": {
      "text/html": [
       "<div>\n",
       "<style scoped>\n",
       "    .dataframe tbody tr th:only-of-type {\n",
       "        vertical-align: middle;\n",
       "    }\n",
       "\n",
       "    .dataframe tbody tr th {\n",
       "        vertical-align: top;\n",
       "    }\n",
       "\n",
       "    .dataframe thead th {\n",
       "        text-align: right;\n",
       "    }\n",
       "</style>\n",
       "<table border=\"1\" class=\"dataframe\">\n",
       "  <thead>\n",
       "    <tr style=\"text-align: right;\">\n",
       "      <th></th>\n",
       "      <th>Unnamed: 0</th>\n",
       "      <th>crim</th>\n",
       "      <th>zn</th>\n",
       "      <th>indus</th>\n",
       "      <th>chas</th>\n",
       "      <th>nox</th>\n",
       "      <th>rm</th>\n",
       "      <th>age</th>\n",
       "      <th>dis</th>\n",
       "      <th>rad</th>\n",
       "      <th>tax</th>\n",
       "      <th>ptratio</th>\n",
       "      <th>black</th>\n",
       "      <th>lstat</th>\n",
       "      <th>medv</th>\n",
       "    </tr>\n",
       "  </thead>\n",
       "  <tbody>\n",
       "    <tr>\n",
       "      <th>0</th>\n",
       "      <td>1</td>\n",
       "      <td>0.00632</td>\n",
       "      <td>18.0</td>\n",
       "      <td>2.31</td>\n",
       "      <td>0</td>\n",
       "      <td>0.538</td>\n",
       "      <td>6.575</td>\n",
       "      <td>65.2</td>\n",
       "      <td>4.0900</td>\n",
       "      <td>1</td>\n",
       "      <td>296</td>\n",
       "      <td>15.3</td>\n",
       "      <td>396.90</td>\n",
       "      <td>4.98</td>\n",
       "      <td>24.0</td>\n",
       "    </tr>\n",
       "    <tr>\n",
       "      <th>1</th>\n",
       "      <td>2</td>\n",
       "      <td>0.02731</td>\n",
       "      <td>0.0</td>\n",
       "      <td>7.07</td>\n",
       "      <td>0</td>\n",
       "      <td>0.469</td>\n",
       "      <td>6.421</td>\n",
       "      <td>78.9</td>\n",
       "      <td>4.9671</td>\n",
       "      <td>2</td>\n",
       "      <td>242</td>\n",
       "      <td>17.8</td>\n",
       "      <td>396.90</td>\n",
       "      <td>9.14</td>\n",
       "      <td>21.6</td>\n",
       "    </tr>\n",
       "    <tr>\n",
       "      <th>2</th>\n",
       "      <td>3</td>\n",
       "      <td>0.02729</td>\n",
       "      <td>0.0</td>\n",
       "      <td>7.07</td>\n",
       "      <td>0</td>\n",
       "      <td>0.469</td>\n",
       "      <td>7.185</td>\n",
       "      <td>61.1</td>\n",
       "      <td>4.9671</td>\n",
       "      <td>2</td>\n",
       "      <td>242</td>\n",
       "      <td>17.8</td>\n",
       "      <td>392.83</td>\n",
       "      <td>4.03</td>\n",
       "      <td>34.7</td>\n",
       "    </tr>\n",
       "    <tr>\n",
       "      <th>3</th>\n",
       "      <td>4</td>\n",
       "      <td>0.03237</td>\n",
       "      <td>0.0</td>\n",
       "      <td>2.18</td>\n",
       "      <td>0</td>\n",
       "      <td>0.458</td>\n",
       "      <td>6.998</td>\n",
       "      <td>45.8</td>\n",
       "      <td>6.0622</td>\n",
       "      <td>3</td>\n",
       "      <td>222</td>\n",
       "      <td>18.7</td>\n",
       "      <td>394.63</td>\n",
       "      <td>2.94</td>\n",
       "      <td>33.4</td>\n",
       "    </tr>\n",
       "    <tr>\n",
       "      <th>4</th>\n",
       "      <td>5</td>\n",
       "      <td>0.06905</td>\n",
       "      <td>0.0</td>\n",
       "      <td>2.18</td>\n",
       "      <td>0</td>\n",
       "      <td>0.458</td>\n",
       "      <td>7.147</td>\n",
       "      <td>54.2</td>\n",
       "      <td>6.0622</td>\n",
       "      <td>3</td>\n",
       "      <td>222</td>\n",
       "      <td>18.7</td>\n",
       "      <td>396.90</td>\n",
       "      <td>5.33</td>\n",
       "      <td>36.2</td>\n",
       "    </tr>\n",
       "  </tbody>\n",
       "</table>\n",
       "</div>"
      ],
      "text/plain": [
       "   Unnamed: 0     crim    zn  indus  chas    nox     rm   age     dis  rad  \\\n",
       "0           1  0.00632  18.0   2.31     0  0.538  6.575  65.2  4.0900    1   \n",
       "1           2  0.02731   0.0   7.07     0  0.469  6.421  78.9  4.9671    2   \n",
       "2           3  0.02729   0.0   7.07     0  0.469  7.185  61.1  4.9671    2   \n",
       "3           4  0.03237   0.0   2.18     0  0.458  6.998  45.8  6.0622    3   \n",
       "4           5  0.06905   0.0   2.18     0  0.458  7.147  54.2  6.0622    3   \n",
       "\n",
       "   tax  ptratio   black  lstat  medv  \n",
       "0  296     15.3  396.90   4.98  24.0  \n",
       "1  242     17.8  396.90   9.14  21.6  \n",
       "2  242     17.8  392.83   4.03  34.7  \n",
       "3  222     18.7  394.63   2.94  33.4  \n",
       "4  222     18.7  396.90   5.33  36.2  "
      ]
     },
     "execution_count": 11,
     "metadata": {},
     "output_type": "execute_result"
    }
   ],
   "source": [
    "Boston = pd.read_csv(\"C:/Users/nihar/OneDrive/Desktop/Predictive Modeling/Data Sets/Boston.csv\")\n",
    "Boston.head()"
   ]
  },
  {
   "cell_type": "code",
   "execution_count": 12,
   "id": "b82981f5-0401-4f59-b1a9-153723bc56ac",
   "metadata": {
    "tags": []
   },
   "outputs": [
    {
     "data": {
      "text/plain": [
       "22.532806324110677"
      ]
     },
     "execution_count": 12,
     "metadata": {},
     "output_type": "execute_result"
    }
   ],
   "source": [
    "medv_mean = np.mean(Boston.medv)\n",
    "medv_mean"
   ]
  },
  {
   "cell_type": "markdown",
   "id": "b31335b8-b864-48a5-8e5b-69259b118d95",
   "metadata": {},
   "source": [
    "## 9(b)"
   ]
  },
  {
   "cell_type": "code",
   "execution_count": 13,
   "id": "300541a5-ba96-46eb-9e78-e46c3b124519",
   "metadata": {
    "tags": []
   },
   "outputs": [
    {
     "data": {
      "text/plain": [
       "0.4088611474975351"
      ]
     },
     "execution_count": 13,
     "metadata": {},
     "output_type": "execute_result"
    }
   ],
   "source": [
    "medv_std = np.std(Boston.medv, ddof=1)  # Sample standard deviation\n",
    "n = len(Boston.medv)\n",
    "se_mean = medv_std / np.sqrt(n)\n",
    "se_mean"
   ]
  },
  {
   "cell_type": "markdown",
   "id": "f1650080-c383-4432-8674-8083aebaebd2",
   "metadata": {
    "tags": []
   },
   "source": [
    "## 9(c)"
   ]
  },
  {
   "cell_type": "code",
   "execution_count": 14,
   "id": "2523a20f-7ca5-4c01-8f31-8ca7d3cdb30c",
   "metadata": {
    "tags": []
   },
   "outputs": [
    {
     "data": {
      "text/plain": [
       "0.4132671309486871"
      ]
     },
     "execution_count": 14,
     "metadata": {},
     "output_type": "execute_result"
    }
   ],
   "source": [
    "n_iterations = 1000\n",
    "bootstrap_means = [np.mean(np.random.choice(Boston.medv, size=n, replace=True)) for _ in range(n_iterations)]\n",
    "bootstrap_se_mean = np.std(bootstrap_means)\n",
    "bootstrap_se_mean"
   ]
  },
  {
   "cell_type": "markdown",
   "id": "d8469295-29fc-49e8-96c8-546f046781cc",
   "metadata": {},
   "source": [
    "The bootstrap estimate of the standard error of the mean (µˆ) is approximately 0.420. This is close to the estimate obtained using the formula, indicating that the bootstrap method provides a reliable estimate of the standard error."
   ]
  },
  {
   "cell_type": "markdown",
   "id": "0979e403-4786-4bd1-882b-ca123c08e5f6",
   "metadata": {},
   "source": [
    "## 9(d)"
   ]
  },
  {
   "cell_type": "code",
   "execution_count": 15,
   "id": "ddc1eef4-aced-4acb-bb1e-2bc40ddc279a",
   "metadata": {
    "tags": []
   },
   "outputs": [
    {
     "data": {
      "text/plain": [
       "[21.715084029115605, 23.35052861910575]"
      ]
     },
     "execution_count": 15,
     "metadata": {},
     "output_type": "execute_result"
    }
   ],
   "source": [
    "conf_interval = [medv_mean - 2 * se_mean, medv_mean + 2 * se_mean]\n",
    "conf_interval"
   ]
  },
  {
   "cell_type": "markdown",
   "id": "90f70ec0-8064-40b7-81b0-0a4bd5f33b6e",
   "metadata": {},
   "source": [
    "## 9(e)"
   ]
  },
  {
   "cell_type": "code",
   "execution_count": 16,
   "id": "5446ebcf-c99c-43aa-9658-057f101a960c",
   "metadata": {
    "tags": []
   },
   "outputs": [
    {
     "data": {
      "text/plain": [
       "21.2"
      ]
     },
     "execution_count": 16,
     "metadata": {},
     "output_type": "execute_result"
    }
   ],
   "source": [
    "medv_median = np.median(Boston.medv)\n",
    "medv_median"
   ]
  },
  {
   "cell_type": "markdown",
   "id": "f6247478-2ae8-404a-8639-f6ced14dfa7a",
   "metadata": {},
   "source": [
    "## 9(f)"
   ]
  },
  {
   "cell_type": "code",
   "execution_count": 17,
   "id": "7861c094-e035-4b45-9bd0-ff092f88d8b7",
   "metadata": {
    "tags": []
   },
   "outputs": [
    {
     "data": {
      "text/plain": [
       "0.3762626609165461"
      ]
     },
     "execution_count": 17,
     "metadata": {},
     "output_type": "execute_result"
    }
   ],
   "source": [
    "bootstrap_medians = [np.median(np.random.choice(Boston.medv, size=n, replace=True)) for _ in range(n_iterations)]\n",
    "bootstrap_se_median = np.std(bootstrap_medians)\n",
    "bootstrap_se_median"
   ]
  },
  {
   "cell_type": "markdown",
   "id": "e06e55a8-7e03-482a-8395-99210be76492",
   "metadata": {},
   "source": [
    "The bootstrap estimate of the standard error of the median is approximately 0.388. This provides a measure of the variability of the median estimate"
   ]
  },
  {
   "cell_type": "markdown",
   "id": "f4dfbdae-8cf9-4d2e-aae1-918711edd10c",
   "metadata": {},
   "source": [
    "## 9(g)"
   ]
  },
  {
   "cell_type": "code",
   "execution_count": 18,
   "id": "c41d9fc9-542f-498d-938f-5908ce0116b6",
   "metadata": {
    "tags": []
   },
   "outputs": [
    {
     "data": {
      "text/plain": [
       "12.75"
      ]
     },
     "execution_count": 18,
     "metadata": {},
     "output_type": "execute_result"
    }
   ],
   "source": [
    "medv_10th_percentile = np.percentile(Boston.medv, 10)\n",
    "medv_10th_percentile"
   ]
  },
  {
   "cell_type": "markdown",
   "id": "692685a8-7313-4eb4-aa6e-f89841d1d26e",
   "metadata": {},
   "source": [
    "## 9(h)"
   ]
  },
  {
   "cell_type": "code",
   "execution_count": 19,
   "id": "e07680e2-1ca5-4ada-ae02-523af0a19369",
   "metadata": {
    "tags": []
   },
   "outputs": [
    {
     "data": {
      "text/plain": [
       "0.5113515400387486"
      ]
     },
     "execution_count": 19,
     "metadata": {},
     "output_type": "execute_result"
    }
   ],
   "source": [
    "bootstrap_10th_percentiles = [np.percentile(np.random.choice(Boston.medv, size=n, replace=True), 10) for _ in range(n_iterations)]\n",
    "bootstrap_se_10th_percentile = np.std(bootstrap_10th_percentiles)\n",
    "bootstrap_se_10th_percentile"
   ]
  },
  {
   "cell_type": "markdown",
   "id": "c4e533f2-69c9-4f32-80cf-4cb8e0dfd628",
   "metadata": {},
   "source": [
    "The bootstrap estimate of the standard error of the tenth percentile is approximately 0.501. This provides a measure of the variability of the tenth percentile estimate."
   ]
  },
  {
   "cell_type": "code",
   "execution_count": null,
   "id": "820cd420-82a4-49f6-a539-c4a2c6f4ddb4",
   "metadata": {},
   "outputs": [],
   "source": []
  }
 ],
 "metadata": {
  "kernelspec": {
   "display_name": "Python 3 (ipykernel)",
   "language": "python",
   "name": "python3"
  },
  "language_info": {
   "codemirror_mode": {
    "name": "ipython",
    "version": 3
   },
   "file_extension": ".py",
   "mimetype": "text/x-python",
   "name": "python",
   "nbconvert_exporter": "python",
   "pygments_lexer": "ipython3",
   "version": "3.11.5"
  }
 },
 "nbformat": 4,
 "nbformat_minor": 5
}
